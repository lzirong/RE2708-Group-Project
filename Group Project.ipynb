{
 "cells": [
  {
   "cell_type": "markdown",
   "metadata": {
    "slideshow": {
     "slide_type": "slide"
    }
   },
   "source": [
    "<img align=left src=\"Data/NUSlogo.png\" width=125>\n",
    "<br><br>\n",
    "\n",
    "# RE2708 Group Project\n",
    "\n",
    "## Instructions\n",
    "\n",
    "Dr. Cristian Badarinza"
   ]
  },
  {
   "cell_type": "markdown",
   "metadata": {
    "slideshow": {
     "slide_type": "slide"
    }
   },
   "source": [
    "## 1. Objective\n",
    "\n",
    "The objective of the group project is to give you the opportunity to apply all of the important computer thinking and programming concepts learned in the second part of this module to a real-life real estate business or data analysis situation. \n",
    "\n",
    "\n",
    "**Deadline**: Sunday, 14 November 2018 at 9pm (IVLE upload).\n",
    "\n",
    "**Submission**: Each group of 5 students is expected to post a zip file containing a Jupyter Notebook file and a *Data* folder. \n",
    "\n",
    "**Help and support**: We will allocate 30 minutes during each Tutorial to answer your questions and to monitor the progress."
   ]
  },
  {
   "cell_type": "markdown",
   "metadata": {
    "slideshow": {
     "slide_type": "slide"
    }
   },
   "source": [
    "## 2. Deliverables\n",
    "\n",
    "Your Jupyter Notebook file is expected to contain the following minimum requirements:\n",
    "\n",
    "a) Reading input data from at least 2 publicly available online sources\n",
    "\n",
    "b) Running 5 operations with text variables (see Lecture 1)\n",
    "\n",
    "c) Running 5 operations with numerical variables using the package `numpy` (see Lecture 1)\n",
    "\n",
    "d) Writing 1 `def` function to clean the data (see Lecture 2)\n",
    "\n",
    "e) Building 3 tables of summary statistics using the package `pandas` (see Lecture 2)\n",
    "\n",
    "f) Plotting 5 figures using the package `matplotlib` (see Lecture 3)\n",
    "\n",
    "g) Estimating 3 regression models using the package `statsmodels` (see Lecture 4) **OR** Running one simulation exercise (see Lecture 5)\n",
    "\n",
    "h) Obtaining and using 2 data series through web scraping (see Lecture 5)\n",
    "\n",
    "i) Plotting 2 location maps using the package `geopandas` (see Lecture 6)\n",
    "\n",
    "j) Markdown comments and brief interpretations of the results."
   ]
  },
  {
   "cell_type": "markdown",
   "metadata": {
    "slideshow": {
     "slide_type": "slide"
    }
   },
   "source": [
    "## 3. Proposed Topics"
   ]
  },
  {
   "cell_type": "markdown",
   "metadata": {},
   "source": [
    "Here is a list of proposed real estate business cases and data analysis topics. You can either choose one of those topics, or propose a research question of your own.\n",
    "\n"
   ]
  },
  {
   "cell_type": "markdown",
   "metadata": {
    "slideshow": {
     "slide_type": "subslide"
    }
   },
   "source": [
    "#### Singapore\n",
    "\n",
    "* \"Evolution of residential real estate prices in Singapore\"\n",
    "* \"Singapore real estate prices in a global context\"\n",
    "* \"Building a hedonic house price index\"\n",
    "* \"How does economic uncertanty influence housing prices?\"\n",
    "* \"Road traffic conditions during peak hours\"\n",
    "* \"Property investment scenario: CBD\"\n",
    "* \"Property investment scenario: Jurong\"\n",
    "* \"Property investment scenario: Tampines\"\n",
    "* \"Property investment scenario: Woodlands\"\n",
    "* \"The stock market performance of S-REITs\"\n",
    "* \"Construction activity in Singapore\"\n",
    "* \"The growth in en-bloc sales\"\n",
    "* \"Singapore Government Land Sales (GLS)\"\n",
    "* \"CEA salespersons: Who are they?\"\n",
    "* \"Kindergartens and childcare centres: Where are they?\"\n",
    "* \"The Singapore rental market\"\n",
    "* \"Understanding vacancy rates\""
   ]
  },
  {
   "cell_type": "markdown",
   "metadata": {
    "slideshow": {
     "slide_type": "subslide"
    }
   },
   "source": [
    "#### Asia\n",
    "\n",
    "* \"Comparing real estate market developments across Asian markets\"\n",
    "* \"Is there a link between house prices and the climate? The case of Australia\"\n",
    "* \"Property investment scenario: Australia\"\n",
    "* \"Property investment scenario: Hong Kong\"\n",
    "* \"Property investment scenario: Indonesia\"\n",
    "* \"Property investment scenario: India\""
   ]
  },
  {
   "cell_type": "markdown",
   "metadata": {
    "slideshow": {
     "slide_type": "subslide"
    }
   },
   "source": [
    "#### United States\n",
    "\n",
    "* \"The real estate market crash of 2008 in the United States\"\n",
    "* \"The stock market performance of US-REITs\"\n",
    "\n",
    "#### UK\n",
    "\n",
    "* \"Building a hedonic house price index for the UK\"\n",
    "* \"How does household income affect house prices?\"\n",
    "* \"How does ethnic composition affect house prices?\"\n",
    "\n",
    "#### Global\n",
    "\n",
    "* \"Life satisfaction and environmental factors around the world\"\n",
    "* \"The tallest skyscrapers: residential, office or mixed-use?\""
   ]
  },
  {
   "cell_type": "markdown",
   "metadata": {},
   "source": [
    "## 4. Data Sources\n",
    "\n",
    "#### Singapore\n",
    "\n",
    "https://www.singstat.gov.sg\n",
    "\n",
    "https://data.gov.sg\n",
    "\n",
    "http://libguides.nus.edu.sg/c.php?g=145534&p=955672 (NUS Library)\n",
    "\n",
    "#### Asia\n",
    "\n",
    "https://www.anrev.org/en/\n",
    "\n",
    "http://www.stats.gov.cn/english/\n",
    "\n",
    "#### United States\n",
    "\n",
    "https://fred.stlouisfed.org\n",
    "\n",
    "#### UK\n",
    "\n",
    "http://landregistry.data.gov.uk\n",
    "\n",
    "https://www.nomisweb.co.uk\n",
    "\n",
    "### Global\n",
    "\n",
    "https://stats.oecd.org\n",
    "\n",
    "\n"
   ]
  }
 ],
 "metadata": {
  "celltoolbar": "Slideshow",
  "kernelspec": {
   "display_name": "Python 3",
   "language": "python",
   "name": "python3"
  },
  "language_info": {
   "codemirror_mode": {
    "name": "ipython",
    "version": 3
   },
   "file_extension": ".py",
   "mimetype": "text/x-python",
   "name": "python",
   "nbconvert_exporter": "python",
   "pygments_lexer": "ipython3",
   "version": "3.6.5"
  }
 },
 "nbformat": 4,
 "nbformat_minor": 2
}
